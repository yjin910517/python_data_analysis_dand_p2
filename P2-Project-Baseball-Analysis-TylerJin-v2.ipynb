{
 "cells": [
  {
   "cell_type": "markdown",
   "metadata": {},
   "source": [
    "#### Revision Notes (2017-01-21)\n",
    "This is my second submission. According to grader's feedback on my first submission, I made following revisions:\n",
    "- Added 'Part 1: Key Questions and Assumptions' to list questions and assumptions I had before I start this data exploration.\n",
    "- Added 'Part 4: Summary of Key Findings' to summarize key findings and identify potential directions for future analysis.\n",
    "- Updated all charts: Added titles and labels for better communication. \n",
    "- About data wrangling: I planned to conduct data cleaning before formal analysis, but this database already seems very tidy, there is not much left for me to wrangle. I converted data type at the beginning of Part 1; took care of missing values of appearance data in part 3.3; merged different tables and only kept relevant columns in my dataframes (but I didn't export them to csv files, since it is easy to reproduce them from raw data). I hope these actions are sufficient to meet the requirement of this project."
   ]
  },
  {
   "cell_type": "markdown",
   "metadata": {},
   "source": [
    "## Foreword\n",
    "- There are two database available for this project assignment: Titanic passager database and baseball database. I chose baseball database instead of Titanic database because I already read a lot of Titanic database analysis articles on Kaggle before. I want to try a whole new database by myself for this project.\n",
    "- However, I know very little about the rules of baseball, so I avoided detail technical variables(pitching/fielding and etc.) in this analysis and focused on non-technical variables (such as # of games won, award earned, total years played, birth year, height/weight and etc.)\n",
    "- Full database can be found in the folder 'baseballdatabank-master_2016-03-02'. In this analysis, I only utilized four of those csv files:\n",
    "    - Master.csv\n",
    "    - Salaries.csv\n",
    "    - AwardsPlayers.csv\n",
    "    - Appearances.csv"
   ]
  },
  {
   "cell_type": "markdown",
   "metadata": {},
   "source": [
    "## Index\n",
    "#### Part 1: Key Questions and Assumptions\n",
    "\n",
    "#### Part 2: Descriptive Statistics on Players' Bio\n",
    "- Debut Age\n",
    "- Career Length\n",
    "- Birth Country\n",
    "- Left/right Hand\n",
    "\n",
    "#### Part 3: Salary Analysis\n",
    "- Salary vs League\n",
    "- Salary vs Player's Experience\n",
    "- Salary vs Player's Appearances\n",
    "\n",
    "#### Part 4: Summary of Key Findings\n",
    "\n",
    "#### Part 5: Limitations of This Analysis\n",
    "\n",
    "---"
   ]
  },
  {
   "cell_type": "markdown",
   "metadata": {},
   "source": [
    "## Part 1: Key Questions and Assumptions"
   ]
  },
  {
   "cell_type": "markdown",
   "metadata": {},
   "source": [
    "I am interested in following aspects of this baseball database:\n",
    "- Player Biography related questions:\n",
    "    - Professional baseball players usually start their career at what age?\n",
    "    - How long would they play for the leagues?\n",
    "    - AL and NL are both leagues in America. In this 'melting-pot' country with a lot of immigrants, how many baseball players are immigrants?\n",
    "    - Is left-handed a common phenomenon among baseball players?\n",
    "- What variables are correlated with player's annual salary level?\n",
    "    - Do AL and NL have different salary patterns?\n",
    "    - Any difference in salary pattern among different roles in the games?\n",
    "    - I assume players who are **more experienced** or **earned more awards** or **show up in the games more frequently** tend to earn higher salary. Is this assumption true?"
   ]
  },
  {
   "cell_type": "code",
   "execution_count": 1,
   "metadata": {
    "collapsed": true
   },
   "outputs": [],
   "source": [
    "#Import necessary libraries\n",
    "import pandas as pd\n",
    "import numpy as np\n",
    "from datetime import datetime as dt\n",
    "import matplotlib.pyplot as plt\n",
    "from scipy import stats\n",
    "from statsmodels.formula.api import ols\n",
    "%matplotlib inline"
   ]
  },
  {
   "cell_type": "code",
   "execution_count": 2,
   "metadata": {
    "collapsed": true
   },
   "outputs": [],
   "source": [
    "#Create function for quick access to file path\n",
    "def csv_path(filename):\n",
    "    return 'baseballdatabank-master_2016-03-02/baseballdatabank-master/core/'+filename"
   ]
  },
  {
   "cell_type": "markdown",
   "metadata": {},
   "source": [
    "## Part 2: Descriptive Statistics on Players' Bio"
   ]
  },
  {
   "cell_type": "code",
   "execution_count": 3,
   "metadata": {
    "collapsed": false
   },
   "outputs": [
    {
     "name": "stdout",
     "output_type": "stream",
     "text": [
      "2454\n"
     ]
    },
    {
     "data": {
      "text/html": [
       "<div>\n",
       "<table border=\"1\" class=\"dataframe\">\n",
       "  <thead>\n",
       "    <tr style=\"text-align: right;\">\n",
       "      <th></th>\n",
       "      <th>playerID</th>\n",
       "      <th>birthYear</th>\n",
       "      <th>birthMonth</th>\n",
       "      <th>birthDay</th>\n",
       "      <th>birthCountry</th>\n",
       "      <th>birthState</th>\n",
       "      <th>birthCity</th>\n",
       "      <th>deathYear</th>\n",
       "      <th>deathMonth</th>\n",
       "      <th>deathDay</th>\n",
       "      <th>...</th>\n",
       "      <th>nameLast</th>\n",
       "      <th>nameGiven</th>\n",
       "      <th>weight</th>\n",
       "      <th>height</th>\n",
       "      <th>bats</th>\n",
       "      <th>throws</th>\n",
       "      <th>debut</th>\n",
       "      <th>finalGame</th>\n",
       "      <th>retroID</th>\n",
       "      <th>bbrefID</th>\n",
       "    </tr>\n",
       "  </thead>\n",
       "  <tbody>\n",
       "    <tr>\n",
       "      <th>0</th>\n",
       "      <td>aardsda01</td>\n",
       "      <td>1981.0</td>\n",
       "      <td>12.0</td>\n",
       "      <td>27.0</td>\n",
       "      <td>USA</td>\n",
       "      <td>CO</td>\n",
       "      <td>Denver</td>\n",
       "      <td>NaN</td>\n",
       "      <td>NaN</td>\n",
       "      <td>NaN</td>\n",
       "      <td>...</td>\n",
       "      <td>Aardsma</td>\n",
       "      <td>David Allan</td>\n",
       "      <td>220.0</td>\n",
       "      <td>75.0</td>\n",
       "      <td>R</td>\n",
       "      <td>R</td>\n",
       "      <td>2004-04-06</td>\n",
       "      <td>2015-08-23</td>\n",
       "      <td>aardd001</td>\n",
       "      <td>aardsda01</td>\n",
       "    </tr>\n",
       "    <tr>\n",
       "      <th>5</th>\n",
       "      <td>abadfe01</td>\n",
       "      <td>1985.0</td>\n",
       "      <td>12.0</td>\n",
       "      <td>17.0</td>\n",
       "      <td>D.R.</td>\n",
       "      <td>La Romana</td>\n",
       "      <td>La Romana</td>\n",
       "      <td>NaN</td>\n",
       "      <td>NaN</td>\n",
       "      <td>NaN</td>\n",
       "      <td>...</td>\n",
       "      <td>Abad</td>\n",
       "      <td>Fernando Antonio</td>\n",
       "      <td>220.0</td>\n",
       "      <td>73.0</td>\n",
       "      <td>L</td>\n",
       "      <td>L</td>\n",
       "      <td>2010-07-28</td>\n",
       "      <td>2015-10-03</td>\n",
       "      <td>abadf001</td>\n",
       "      <td>abadfe01</td>\n",
       "    </tr>\n",
       "    <tr>\n",
       "      <th>21</th>\n",
       "      <td>abercre01</td>\n",
       "      <td>1980.0</td>\n",
       "      <td>7.0</td>\n",
       "      <td>15.0</td>\n",
       "      <td>USA</td>\n",
       "      <td>GA</td>\n",
       "      <td>Columbus</td>\n",
       "      <td>NaN</td>\n",
       "      <td>NaN</td>\n",
       "      <td>NaN</td>\n",
       "      <td>...</td>\n",
       "      <td>Abercrombie</td>\n",
       "      <td>Reginald Damascus</td>\n",
       "      <td>215.0</td>\n",
       "      <td>75.0</td>\n",
       "      <td>R</td>\n",
       "      <td>R</td>\n",
       "      <td>2006-04-04</td>\n",
       "      <td>2008-09-28</td>\n",
       "      <td>aberr001</td>\n",
       "      <td>abercre01</td>\n",
       "    </tr>\n",
       "    <tr>\n",
       "      <th>35</th>\n",
       "      <td>abreujo02</td>\n",
       "      <td>1987.0</td>\n",
       "      <td>1.0</td>\n",
       "      <td>29.0</td>\n",
       "      <td>Cuba</td>\n",
       "      <td>Cienfuegos</td>\n",
       "      <td>Cienfuegos</td>\n",
       "      <td>NaN</td>\n",
       "      <td>NaN</td>\n",
       "      <td>NaN</td>\n",
       "      <td>...</td>\n",
       "      <td>Abreu</td>\n",
       "      <td>Jose Dariel</td>\n",
       "      <td>255.0</td>\n",
       "      <td>75.0</td>\n",
       "      <td>R</td>\n",
       "      <td>R</td>\n",
       "      <td>2014-03-31</td>\n",
       "      <td>2015-10-03</td>\n",
       "      <td>abrej003</td>\n",
       "      <td>abreujo02</td>\n",
       "    </tr>\n",
       "    <tr>\n",
       "      <th>36</th>\n",
       "      <td>abreuju01</td>\n",
       "      <td>1985.0</td>\n",
       "      <td>4.0</td>\n",
       "      <td>8.0</td>\n",
       "      <td>D.R.</td>\n",
       "      <td>Duarte</td>\n",
       "      <td>San Francisco de Macoris</td>\n",
       "      <td>NaN</td>\n",
       "      <td>NaN</td>\n",
       "      <td>NaN</td>\n",
       "      <td>...</td>\n",
       "      <td>Abreu</td>\n",
       "      <td>Juan de Dios</td>\n",
       "      <td>185.0</td>\n",
       "      <td>72.0</td>\n",
       "      <td>R</td>\n",
       "      <td>R</td>\n",
       "      <td>2011-08-29</td>\n",
       "      <td>2011-09-27</td>\n",
       "      <td>abrej002</td>\n",
       "      <td>abreuju01</td>\n",
       "    </tr>\n",
       "  </tbody>\n",
       "</table>\n",
       "<p>5 rows × 24 columns</p>\n",
       "</div>"
      ],
      "text/plain": [
       "     playerID  birthYear  birthMonth  birthDay birthCountry  birthState  \\\n",
       "0   aardsda01     1981.0        12.0      27.0          USA          CO   \n",
       "5    abadfe01     1985.0        12.0      17.0         D.R.   La Romana   \n",
       "21  abercre01     1980.0         7.0      15.0          USA          GA   \n",
       "35  abreujo02     1987.0         1.0      29.0         Cuba  Cienfuegos   \n",
       "36  abreuju01     1985.0         4.0       8.0         D.R.      Duarte   \n",
       "\n",
       "                   birthCity  deathYear  deathMonth  deathDay    ...      \\\n",
       "0                     Denver        NaN         NaN       NaN    ...       \n",
       "5                  La Romana        NaN         NaN       NaN    ...       \n",
       "21                  Columbus        NaN         NaN       NaN    ...       \n",
       "35                Cienfuegos        NaN         NaN       NaN    ...       \n",
       "36  San Francisco de Macoris        NaN         NaN       NaN    ...       \n",
       "\n",
       "       nameLast          nameGiven weight height bats throws       debut  \\\n",
       "0       Aardsma        David Allan  220.0   75.0    R      R  2004-04-06   \n",
       "5          Abad   Fernando Antonio  220.0   73.0    L      L  2010-07-28   \n",
       "21  Abercrombie  Reginald Damascus  215.0   75.0    R      R  2006-04-04   \n",
       "35        Abreu        Jose Dariel  255.0   75.0    R      R  2014-03-31   \n",
       "36        Abreu       Juan de Dios  185.0   72.0    R      R  2011-08-29   \n",
       "\n",
       "     finalGame   retroID    bbrefID  \n",
       "0   2015-08-23  aardd001  aardsda01  \n",
       "5   2015-10-03  abadf001   abadfe01  \n",
       "21  2008-09-28  aberr001  abercre01  \n",
       "35  2015-10-03  abrej003  abreujo02  \n",
       "36  2011-09-27  abrej002  abreuju01  \n",
       "\n",
       "[5 rows x 24 columns]"
      ]
     },
     "execution_count": 3,
     "metadata": {},
     "output_type": "execute_result"
    }
   ],
   "source": [
    "# Import master sheet and focus on players who was born after 1979\n",
    "master=pd.read_csv(csv_path('Master.csv'))\n",
    "master_selected=master.copy()[master['birthYear']>=1980]\n",
    "print(len(master_selected))\n",
    "master_selected.head()"
   ]
  },
  {
   "cell_type": "code",
   "execution_count": 4,
   "metadata": {
    "collapsed": false
   },
   "outputs": [
    {
     "data": {
      "text/plain": [
       "2453"
      ]
     },
     "execution_count": 4,
     "metadata": {},
     "output_type": "execute_result"
    }
   ],
   "source": [
    "#Exclude players with debut date missing (only one player missed this value)\n",
    "master_selected=master_selected[master_selected['debut'].apply(type)==str]\n",
    "len(master_selected)"
   ]
  },
  {
   "cell_type": "code",
   "execution_count": 5,
   "metadata": {
    "collapsed": false
   },
   "outputs": [],
   "source": [
    "#Extract debut year from debut \n",
    "def get_year(str_date):\n",
    "    return int(str_date[:4])\n",
    "\n",
    "master_selected['debut_year']=master_selected['debut'].apply(get_year)"
   ]
  },
  {
   "cell_type": "code",
   "execution_count": 6,
   "metadata": {
    "collapsed": false
   },
   "outputs": [],
   "source": [
    "#Convert string type date to datetime for calculation\n",
    "#Missing finalGame date means the player is still active, so fill it as '2016-01-01' for the convenience of later calculation \n",
    "def convert_date(date):\n",
    "    if type(date)==str:\n",
    "        return dt.strptime(date,'%Y-%m-%d')\n",
    "    else:\n",
    "        return dt.strptime('2016-01-01','%Y-%m-%d')\n",
    "    \n",
    "master_selected['finalGame']=master_selected['finalGame'].apply(convert_date)\n",
    "master_selected['debut']=master_selected['debut'].apply(convert_date)"
   ]
  },
  {
   "cell_type": "code",
   "execution_count": 7,
   "metadata": {
    "collapsed": false
   },
   "outputs": [],
   "source": [
    "#Calculate each player's total years by subtracting debut date from finalGame date, present as 2-decimal float\n",
    "def year_convert(timedelta_data):\n",
    "    return round(timedelta_data.days/365,2)\n",
    "\n",
    "master_selected['yearsPlayed']=master_selected['finalGame']-master_selected['debut']\n",
    "master_selected['yearsPlayed']=master_selected['yearsPlayed'].apply(year_convert)"
   ]
  },
  {
   "cell_type": "code",
   "execution_count": 8,
   "metadata": {
    "collapsed": false
   },
   "outputs": [],
   "source": [
    "#Calculate player's age when baseball career started\n",
    "master_selected['ageDebut']=master_selected['debut_year']-master_selected['birthYear']"
   ]
  },
  {
   "cell_type": "markdown",
   "metadata": {},
   "source": [
    "### 2.1 Debut Age:\n",
    "Selected players started their career around 23-26 years old. While young players can enter the league at the age of 19, a debut age of 33 is also possible.  "
   ]
  },
  {
   "cell_type": "code",
   "execution_count": 9,
   "metadata": {
    "collapsed": false
   },
   "outputs": [
    {
     "data": {
      "text/plain": [
       "count    2453.000000\n",
       "mean       24.432124\n",
       "std         1.980734\n",
       "min        19.000000\n",
       "25%        23.000000\n",
       "50%        24.000000\n",
       "75%        26.000000\n",
       "max        33.000000\n",
       "Name: ageDebut, dtype: float64"
      ]
     },
     "execution_count": 9,
     "metadata": {},
     "output_type": "execute_result"
    }
   ],
   "source": [
    "master_selected['ageDebut'].describe()"
   ]
  },
  {
   "cell_type": "markdown",
   "metadata": {},
   "source": [
    "### 2.2 Career Length:\n",
    "I don't watch baseball, so this statistics is a little bit surprising for me, since the career length is much shorter than I thought. On average, players only play in professional leagues for ~3 years and 75% of them play for less than 5.14 years."
   ]
  },
  {
   "cell_type": "code",
   "execution_count": 10,
   "metadata": {
    "collapsed": false
   },
   "outputs": [
    {
     "data": {
      "text/plain": [
       "count    2453.000000\n",
       "mean        3.338630\n",
       "std         3.079433\n",
       "min         0.000000\n",
       "25%         0.880000\n",
       "50%         2.380000\n",
       "75%         5.140000\n",
       "max        14.520000\n",
       "Name: yearsPlayed, dtype: float64"
      ]
     },
     "execution_count": 10,
     "metadata": {},
     "output_type": "execute_result"
    }
   ],
   "source": [
    "master_selected['yearsPlayed'].describe()"
   ]
  },
  {
   "cell_type": "markdown",
   "metadata": {},
   "source": [
    "A potential anomaly within data is that the minimum years is 0.0, so I will take a closer look on them. Seems like many players only show up in the league game once. I don't have good reasons to exclude them, so let's keep them in the record for now."
   ]
  },
  {
   "cell_type": "code",
   "execution_count": 11,
   "metadata": {
    "collapsed": false
   },
   "outputs": [
    {
     "name": "stdout",
     "output_type": "stream",
     "text": [
      "36\n"
     ]
    },
    {
     "data": {
      "text/html": [
       "<div>\n",
       "<table border=\"1\" class=\"dataframe\">\n",
       "  <thead>\n",
       "    <tr style=\"text-align: right;\">\n",
       "      <th></th>\n",
       "      <th>debut</th>\n",
       "      <th>finalGame</th>\n",
       "    </tr>\n",
       "  </thead>\n",
       "  <tbody>\n",
       "    <tr>\n",
       "      <th>715</th>\n",
       "      <td>2013-06-08</td>\n",
       "      <td>2013-06-08</td>\n",
       "    </tr>\n",
       "    <tr>\n",
       "      <th>991</th>\n",
       "      <td>2015-05-28</td>\n",
       "      <td>2015-05-28</td>\n",
       "    </tr>\n",
       "    <tr>\n",
       "      <th>1053</th>\n",
       "      <td>2013-09-27</td>\n",
       "      <td>2013-09-27</td>\n",
       "    </tr>\n",
       "    <tr>\n",
       "      <th>2064</th>\n",
       "      <td>2012-10-03</td>\n",
       "      <td>2012-10-03</td>\n",
       "    </tr>\n",
       "    <tr>\n",
       "      <th>2103</th>\n",
       "      <td>2014-06-20</td>\n",
       "      <td>2014-06-20</td>\n",
       "    </tr>\n",
       "  </tbody>\n",
       "</table>\n",
       "</div>"
      ],
      "text/plain": [
       "          debut  finalGame\n",
       "715  2013-06-08 2013-06-08\n",
       "991  2015-05-28 2015-05-28\n",
       "1053 2013-09-27 2013-09-27\n",
       "2064 2012-10-03 2012-10-03\n",
       "2103 2014-06-20 2014-06-20"
      ]
     },
     "execution_count": 11,
     "metadata": {},
     "output_type": "execute_result"
    }
   ],
   "source": [
    "anomaly=master_selected[master_selected['yearsPlayed']==0.0][['debut','finalGame']]\n",
    "print(len(anomaly))\n",
    "anomaly.head()"
   ]
  },
  {
   "cell_type": "markdown",
   "metadata": {},
   "source": [
    "### 2.3 Birth Country:\n",
    "28% of selected players were born outside USA"
   ]
  },
  {
   "cell_type": "code",
   "execution_count": 12,
   "metadata": {
    "collapsed": false,
    "scrolled": true
   },
   "outputs": [
    {
     "name": "stdout",
     "output_type": "stream",
     "text": [
      "About 28.05% of professional players are immigrants\n"
     ]
    },
    {
     "data": {
      "image/png": "[encoded data removed]",
      "text/plain": [
       "<matplotlib.figure.Figure at 0x3f184c6710>"
      ]
     },
     "metadata": {},
     "output_type": "display_data"
    }
   ],
   "source": [
    "print('About {}% of professional players are immigrants'.format(round(100*sum(master_selected['birthCountry']!='USA')/len(master_selected),2)))\n",
    "plt.bar([0,1],[sum(master_selected['birthCountry']=='USA'),sum(master_selected['birthCountry']!='USA')],0.5,color='b')\n",
    "plt.xticks([0.25,1.25],['Born in USA', 'Born in other Countries'])\n",
    "plt.xlabel('Birth Country')\n",
    "plt.ylabel('# of Baseball Players')\n",
    "plt.title('Immigrants versus Non-immigrants among American Baseball Players (Born after 1979)').set_position([.5, 1.05])"
   ]
  },
  {
   "cell_type": "markdown",
   "metadata": {},
   "source": [
    "### 2.4 Left/Right Hand:\n",
    "- It's interesting that players can be ambidextrous (B) for batting hand, but not for throwing hands\n",
    "- It is also interesting that about 14% (10.84%+2.98%) players' batting hand is the opposite of throwing hands"
   ]
  },
  {
   "cell_type": "code",
   "execution_count": 13,
   "metadata": {
    "collapsed": false
   },
   "outputs": [
    {
     "data": {
      "text/html": [
       "<div>\n",
       "<table border=\"1\" class=\"dataframe\">\n",
       "  <thead>\n",
       "    <tr style=\"text-align: right;\">\n",
       "      <th></th>\n",
       "      <th></th>\n",
       "      <th>Freqency</th>\n",
       "      <th>Percentage</th>\n",
       "    </tr>\n",
       "    <tr>\n",
       "      <th>bats</th>\n",
       "      <th>throws</th>\n",
       "      <th></th>\n",
       "      <th></th>\n",
       "    </tr>\n",
       "  </thead>\n",
       "  <tbody>\n",
       "    <tr>\n",
       "      <th rowspan=\"2\" valign=\"top\">B</th>\n",
       "      <th>L</th>\n",
       "      <td>17</td>\n",
       "      <td>0.69</td>\n",
       "    </tr>\n",
       "    <tr>\n",
       "      <th>R</th>\n",
       "      <td>161</td>\n",
       "      <td>6.56</td>\n",
       "    </tr>\n",
       "    <tr>\n",
       "      <th rowspan=\"2\" valign=\"top\">L</th>\n",
       "      <th>L</th>\n",
       "      <td>439</td>\n",
       "      <td>17.90</td>\n",
       "    </tr>\n",
       "    <tr>\n",
       "      <th>R</th>\n",
       "      <td>266</td>\n",
       "      <td>10.84</td>\n",
       "    </tr>\n",
       "    <tr>\n",
       "      <th rowspan=\"2\" valign=\"top\">R</th>\n",
       "      <th>L</th>\n",
       "      <td>73</td>\n",
       "      <td>2.98</td>\n",
       "    </tr>\n",
       "    <tr>\n",
       "      <th>R</th>\n",
       "      <td>1497</td>\n",
       "      <td>61.03</td>\n",
       "    </tr>\n",
       "  </tbody>\n",
       "</table>\n",
       "</div>"
      ],
      "text/plain": [
       "             Freqency  Percentage\n",
       "bats throws                      \n",
       "B    L             17        0.69\n",
       "     R            161        6.56\n",
       "L    L            439       17.90\n",
       "     R            266       10.84\n",
       "R    L             73        2.98\n",
       "     R           1497       61.03"
      ]
     },
     "execution_count": 13,
     "metadata": {},
     "output_type": "execute_result"
    }
   ],
   "source": [
    "hands=master_selected.groupby(['bats','throws'])['playerID'].count()\n",
    "hands_stat=pd.DataFrame({'Freqency':hands,'Percentage':round(hands*100/len(master_selected),2)})\n",
    "hands_stat"
   ]
  },
  {
   "cell_type": "markdown",
   "metadata": {},
   "source": [
    "## Part 3: Salary Analysis"
   ]
  },
  {
   "cell_type": "markdown",
   "metadata": {},
   "source": [
    "The 'Salaries.csv' contains every player's annual salary from 1985 to 2015. In general, the annual salary of baseball is steadily growing over the past three dacades. "
   ]
  },
  {
   "cell_type": "code",
   "execution_count": 14,
   "metadata": {
    "collapsed": false
   },
   "outputs": [
    {
     "data": {
      "text/plain": [
       "<matplotlib.text.Text at 0x3f18a27da0>"
      ]
     },
     "execution_count": 14,
     "metadata": {},
     "output_type": "execute_result"
    },
    {
     "data": {
      "image/png": "[encoded data removed]",
      "text/plain": [
       "<matplotlib.figure.Figure at 0x3f111251d0>"
      ]
     },
     "metadata": {},
     "output_type": "display_data"
    }
   ],
   "source": [
    "salary=pd.read_csv(csv_path('Salaries.csv'))\n",
    "plt.plot(salary.groupby(['yearID'])['salary'].mean())\n",
    "plt.title('Average Salary of American Baseball Players (Year 1985-2015)' ).set_position([.5, 1.05])\n",
    "plt.xlabel('Year')\n",
    "plt.ylabel('Annual Salary in USD')"
   ]
  },
  {
   "cell_type": "markdown",
   "metadata": {},
   "source": [
    "To narrow down the scope, let's focus on the salary data of the most recent year, that is year 2015."
   ]
  },
  {
   "cell_type": "code",
   "execution_count": 15,
   "metadata": {
    "collapsed": false
   },
   "outputs": [
    {
     "name": "stdout",
     "output_type": "stream",
     "text": [
      "817\n"
     ]
    },
    {
     "data": {
      "text/html": [
       "<div>\n",
       "<table border=\"1\" class=\"dataframe\">\n",
       "  <thead>\n",
       "    <tr style=\"text-align: right;\">\n",
       "      <th></th>\n",
       "      <th>yearID</th>\n",
       "      <th>teamID</th>\n",
       "      <th>lgID</th>\n",
       "      <th>playerID</th>\n",
       "      <th>salary</th>\n",
       "    </tr>\n",
       "  </thead>\n",
       "  <tbody>\n",
       "    <tr>\n",
       "      <th>24758</th>\n",
       "      <td>2015</td>\n",
       "      <td>ARI</td>\n",
       "      <td>NL</td>\n",
       "      <td>ahmedni01</td>\n",
       "      <td>508500</td>\n",
       "    </tr>\n",
       "    <tr>\n",
       "      <th>24759</th>\n",
       "      <td>2015</td>\n",
       "      <td>ARI</td>\n",
       "      <td>NL</td>\n",
       "      <td>anderch01</td>\n",
       "      <td>512500</td>\n",
       "    </tr>\n",
       "    <tr>\n",
       "      <th>24760</th>\n",
       "      <td>2015</td>\n",
       "      <td>ARI</td>\n",
       "      <td>NL</td>\n",
       "      <td>chafian01</td>\n",
       "      <td>507500</td>\n",
       "    </tr>\n",
       "    <tr>\n",
       "      <th>24761</th>\n",
       "      <td>2015</td>\n",
       "      <td>ARI</td>\n",
       "      <td>NL</td>\n",
       "      <td>collmjo01</td>\n",
       "      <td>1400000</td>\n",
       "    </tr>\n",
       "    <tr>\n",
       "      <th>24762</th>\n",
       "      <td>2015</td>\n",
       "      <td>ARI</td>\n",
       "      <td>NL</td>\n",
       "      <td>corbipa01</td>\n",
       "      <td>524000</td>\n",
       "    </tr>\n",
       "  </tbody>\n",
       "</table>\n",
       "</div>"
      ],
      "text/plain": [
       "       yearID teamID lgID   playerID   salary\n",
       "24758    2015    ARI   NL  ahmedni01   508500\n",
       "24759    2015    ARI   NL  anderch01   512500\n",
       "24760    2015    ARI   NL  chafian01   507500\n",
       "24761    2015    ARI   NL  collmjo01  1400000\n",
       "24762    2015    ARI   NL  corbipa01   524000"
      ]
     },
     "execution_count": 15,
     "metadata": {},
     "output_type": "execute_result"
    }
   ],
   "source": [
    "salary_2015=salary[salary['yearID']==2015]\n",
    "print(len(salary_2015))\n",
    "salary_2015.head()"
   ]
  },
  {
   "cell_type": "markdown",
   "metadata": {},
   "source": [
    "On average, players have 6-figure annual salary, but the variance is very high:"
   ]
  },
  {
   "cell_type": "code",
   "execution_count": 16,
   "metadata": {
    "collapsed": false
   },
   "outputs": [
    {
     "data": {
      "text/plain": [
       "count    8.170000e+02\n",
       "mean     4.301276e+06\n",
       "std      5.506178e+06\n",
       "min      5.070000e+05\n",
       "25%      5.225000e+05\n",
       "50%      1.880000e+06\n",
       "75%      5.875000e+06\n",
       "max      3.257100e+07\n",
       "Name: salary, dtype: float64"
      ]
     },
     "execution_count": 16,
     "metadata": {},
     "output_type": "execute_result"
    }
   ],
   "source": [
    "salary_2015['salary'].describe()"
   ]
  },
  {
   "cell_type": "markdown",
   "metadata": {},
   "source": [
    "With bin size of 1 million, we can observe an obvious positive skew in the salary distribution histogram. The long tail indicates a few star players enjoy extremely high salary."
   ]
  },
  {
   "cell_type": "code",
   "execution_count": 29,
   "metadata": {
    "collapsed": false
   },
   "outputs": [
    {
     "data": {
      "text/plain": [
       "<matplotlib.text.Text at 0x3f191eecf8>"
      ]
     },
     "execution_count": 29,
     "metadata": {},
     "output_type": "execute_result"
    },
    {
     "data": {
      "image/png": "[encoded data removed]",
      "text/plain": [
       "<matplotlib.figure.Figure at 0x3f19199f98>"
      ]
     },
     "metadata": {},
     "output_type": "display_data"
    }
   ],
   "source": [
    "plt.hist(salary_2015['salary'],bins=40,range=(0,4*(10**7)))\n",
    "plt.title('American Baseball Player Annual Salary Distribution (Year 2015)').set_position([.5, 1.05])\n",
    "plt.xlabel('Annual Salary in 10 Million USD')\n",
    "plt.ylabel('# of Players')"
   ]
  },
  {
   "cell_type": "markdown",
   "metadata": {},
   "source": [
    "### 3.1 Salary vs League"
   ]
  },
  {
   "cell_type": "markdown",
   "metadata": {},
   "source": [
    "The salary distribution patthern is similar for two leagues(AL and NL). Playing for which league doesn't seem to be a significant influence factor on salary level."
   ]
  },
  {
   "cell_type": "code",
   "execution_count": 18,
   "metadata": {
    "collapsed": false
   },
   "outputs": [
    {
     "data": {
      "text/plain": [
       "lgID       \n",
       "AL    count    4.150000e+02\n",
       "      mean     4.387325e+06\n",
       "      std      5.642554e+06\n",
       "      min      5.070000e+05\n",
       "      25%      5.217000e+05\n",
       "      50%      1.850000e+06\n",
       "      75%      5.937500e+06\n",
       "      max      2.800000e+07\n",
       "NL    count    4.020000e+02\n",
       "      mean     4.212445e+06\n",
       "      std      5.367338e+06\n",
       "      min      5.075000e+05\n",
       "      25%      5.239438e+05\n",
       "      50%      1.912500e+06\n",
       "      75%      5.806250e+06\n",
       "      max      3.257100e+07\n",
       "Name: salary, dtype: float64"
      ]
     },
     "execution_count": 18,
     "metadata": {},
     "output_type": "execute_result"
    }
   ],
   "source": [
    "grouped_salary=salary_2015.groupby(['lgID'])\n",
    "grouped_salary['salary'].describe()"
   ]
  },
  {
   "cell_type": "code",
   "execution_count": 30,
   "metadata": {
    "collapsed": false
   },
   "outputs": [
    {
     "data": {
      "text/plain": [
       "<matplotlib.legend.Legend at 0x3f1928ff98>"
      ]
     },
     "execution_count": 30,
     "metadata": {},
     "output_type": "execute_result"
    },
    {
     "data": {
      "image/png": "[encoded data removed]",
      "text/plain": [
       "<matplotlib.figure.Figure at 0x3f1928ff60>"
      ]
     },
     "metadata": {},
     "output_type": "display_data"
    }
   ],
   "source": [
    "#Distribution of all data\n",
    "plt.hist([salary_2015.loc[grouped_salary.groups['AL']]['salary'],salary_2015.loc[grouped_salary.groups['NL']]['salary']],bins=40,range=(0,4*(10**7)),color=['red','blue'], label=['AL','NL'])\n",
    "plt.title('American Baseball Player Annual Salary Distribution by League (Year 2015)').set_position([.5, 1.05])\n",
    "plt.xlabel('Annual Salary in 10 Million USD')\n",
    "plt.ylabel('# of Players')\n",
    "plt.legend()"
   ]
  },
  {
   "cell_type": "code",
   "execution_count": 22,
   "metadata": {
    "collapsed": false
   },
   "outputs": [
    {
     "data": {
      "text/plain": [
       "<matplotlib.legend.Legend at 0x3f18de7748>"
      ]
     },
     "execution_count": 22,
     "metadata": {},
     "output_type": "execute_result"
    },
    {
     "data": {
      "image/png": "[encoded data removed]",
      "text/plain": [
       "<matplotlib.figure.Figure at 0x3f18de1470>"
      ]
     },
     "metadata": {},
     "output_type": "display_data"
    }
   ],
   "source": [
    "#Zoom to 1-5 millions\n",
    "plt.hist([salary_2015.loc[grouped_salary.groups['AL']]['salary']/1000000,salary_2015.loc[grouped_salary.groups['NL']]['salary']/1000000],bins=10,range=(1,5),color=['red','blue'], label=['AL','NL'])\n",
    "plt.title('American Baseball Player Annual Salary Distribution by League - Zoom to 1-5 Million Range (Year 2015)').set_position([.5, 1.05])\n",
    "plt.xlabel('Annual Salary in Million USD')\n",
    "plt.ylabel('# of Players')\n",
    "plt.legend()"
   ]
  },
  {
   "cell_type": "markdown",
   "metadata": {},
   "source": [
    "### 3.2 Salary vs Player's Experience"
   ]
  },
  {
   "cell_type": "markdown",
   "metadata": {},
   "source": [
    "#### 3.2.1 Salary vs Total Years Played:\n",
    "One reasonable assumption is: The longer a player played in the league, the higher the annual salary. So we can run a linear regression between those two variables."
   ]
  },
  {
   "cell_type": "code",
   "execution_count": 23,
   "metadata": {
    "collapsed": false
   },
   "outputs": [
    {
     "name": "stdout",
     "output_type": "stream",
     "text": [
      "754\n"
     ]
    },
    {
     "data": {
      "text/html": [
       "<div>\n",
       "<table border=\"1\" class=\"dataframe\">\n",
       "  <thead>\n",
       "    <tr style=\"text-align: right;\">\n",
       "      <th></th>\n",
       "      <th>playerID</th>\n",
       "      <th>yearsPlayed</th>\n",
       "      <th>yearID</th>\n",
       "      <th>teamID</th>\n",
       "      <th>lgID</th>\n",
       "      <th>salary</th>\n",
       "    </tr>\n",
       "  </thead>\n",
       "  <tbody>\n",
       "    <tr>\n",
       "      <th>0</th>\n",
       "      <td>abadfe01</td>\n",
       "      <td>5.19</td>\n",
       "      <td>2015</td>\n",
       "      <td>OAK</td>\n",
       "      <td>AL</td>\n",
       "      <td>1087500</td>\n",
       "    </tr>\n",
       "    <tr>\n",
       "      <th>1</th>\n",
       "      <td>abreujo02</td>\n",
       "      <td>1.51</td>\n",
       "      <td>2015</td>\n",
       "      <td>CHA</td>\n",
       "      <td>AL</td>\n",
       "      <td>8666000</td>\n",
       "    </tr>\n",
       "    <tr>\n",
       "      <th>2</th>\n",
       "      <td>ackledu01</td>\n",
       "      <td>4.30</td>\n",
       "      <td>2015</td>\n",
       "      <td>SEA</td>\n",
       "      <td>AL</td>\n",
       "      <td>2600000</td>\n",
       "    </tr>\n",
       "    <tr>\n",
       "      <th>3</th>\n",
       "      <td>adamsau01</td>\n",
       "      <td>1.22</td>\n",
       "      <td>2015</td>\n",
       "      <td>CLE</td>\n",
       "      <td>AL</td>\n",
       "      <td>507700</td>\n",
       "    </tr>\n",
       "    <tr>\n",
       "      <th>4</th>\n",
       "      <td>adamsma01</td>\n",
       "      <td>3.38</td>\n",
       "      <td>2015</td>\n",
       "      <td>SLN</td>\n",
       "      <td>NL</td>\n",
       "      <td>534000</td>\n",
       "    </tr>\n",
       "  </tbody>\n",
       "</table>\n",
       "</div>"
      ],
      "text/plain": [
       "    playerID  yearsPlayed  yearID teamID lgID   salary\n",
       "0   abadfe01         5.19    2015    OAK   AL  1087500\n",
       "1  abreujo02         1.51    2015    CHA   AL  8666000\n",
       "2  ackledu01         4.30    2015    SEA   AL  2600000\n",
       "3  adamsau01         1.22    2015    CLE   AL   507700\n",
       "4  adamsma01         3.38    2015    SLN   NL   534000"
      ]
     },
     "execution_count": 23,
     "metadata": {},
     "output_type": "execute_result"
    }
   ],
   "source": [
    "# Mapping yearsPlayed from Master table to salary table\n",
    "bio_salary_2015=master_selected[['playerID','yearsPlayed']].merge(salary_2015,how='inner',left_on='playerID',right_on='playerID')\n",
    "print(len(bio_salary_2015))\n",
    "bio_salary_2015.head()"
   ]
  },
  {
   "cell_type": "code",
   "execution_count": 25,
   "metadata": {
    "collapsed": false
   },
   "outputs": [],
   "source": [
    "#Create a single linear regression function for repeat use\n",
    "def single_lin(df, x_col,y_col):\n",
    "    ind=df[x_col]\n",
    "    dep=df[y_col]\n",
    "    slope, intercept, r_value, p_value, std_err = stats.linregress(ind,dep)\n",
    "    print('p vulue is {}, r is {}'.format(p_value,round(r_value,3)))\n",
    "    print('Regression line is: y={}+x*{}'.format(round(intercept,2),round(slope,2)))\n",
    "    plt.scatter(ind,dep)\n",
    "    plt.plot(ind,ind*slope+intercept,color='red')"
   ]
  },
  {
   "cell_type": "markdown",
   "metadata": {},
   "source": [
    "The result is aligned with early assumption: r = 0.63 indicates a positive linear relation between player's experience and salary:"
   ]
  },
  {
   "cell_type": "code",
   "execution_count": 28,
   "metadata": {
    "collapsed": false
   },
   "outputs": [
    {
     "name": "stdout",
     "output_type": "stream",
     "text": [
      "p vulue is 6.37081249073996e-86, r is 0.634\n",
      "Regression line is: y=-1833173.25+x*1101814.98\n"
     ]
    },
    {
     "data": {
      "text/plain": [
       "<matplotlib.text.Text at 0x3f190f4828>"
      ]
     },
     "execution_count": 28,
     "metadata": {},
     "output_type": "execute_result"
    },
    {
     "data": {
      "image/png": "[encoded data removed]",
      "text/plain": [
       "<matplotlib.figure.Figure at 0x3f190f4710>"
      ]
     },
     "metadata": {},
     "output_type": "display_data"
    }
   ],
   "source": [
    "single_lin(bio_salary_2015,'yearsPlayed','salary')\n",
    "plt.title('Linear Regression between Annual Salary and Years Played').set_position([.5, 1.05])\n",
    "plt.ylabel('Annual Salary in 10 Million USD')\n",
    "plt.xlabel('Total Years as League Player')"
   ]
  },
  {
   "cell_type": "markdown",
   "metadata": {},
   "source": [
    "#### 3.2.2 Salary vs Total Awards Earned:\n",
    "Another assumption is that the more awards a player earned throughout his career, the higher the annual salary. "
   ]
  },
  {
   "cell_type": "code",
   "execution_count": 27,
   "metadata": {
    "collapsed": false
   },
   "outputs": [
    {
     "data": {
      "text/html": [
       "<div>\n",
       "<table border=\"1\" class=\"dataframe\">\n",
       "  <thead>\n",
       "    <tr style=\"text-align: right;\">\n",
       "      <th></th>\n",
       "      <th>playerID</th>\n",
       "      <th>yearsPlayed</th>\n",
       "      <th>yearID</th>\n",
       "      <th>teamID</th>\n",
       "      <th>lgID</th>\n",
       "      <th>salary</th>\n",
       "      <th>award</th>\n",
       "    </tr>\n",
       "  </thead>\n",
       "  <tbody>\n",
       "    <tr>\n",
       "      <th>0</th>\n",
       "      <td>abadfe01</td>\n",
       "      <td>5.19</td>\n",
       "      <td>2015</td>\n",
       "      <td>OAK</td>\n",
       "      <td>AL</td>\n",
       "      <td>1087500</td>\n",
       "      <td>0.0</td>\n",
       "    </tr>\n",
       "    <tr>\n",
       "      <th>1</th>\n",
       "      <td>abreujo02</td>\n",
       "      <td>1.51</td>\n",
       "      <td>2015</td>\n",
       "      <td>CHA</td>\n",
       "      <td>AL</td>\n",
       "      <td>8666000</td>\n",
       "      <td>2.0</td>\n",
       "    </tr>\n",
       "    <tr>\n",
       "      <th>2</th>\n",
       "      <td>ackledu01</td>\n",
       "      <td>4.30</td>\n",
       "      <td>2015</td>\n",
       "      <td>SEA</td>\n",
       "      <td>AL</td>\n",
       "      <td>2600000</td>\n",
       "      <td>0.0</td>\n",
       "    </tr>\n",
       "    <tr>\n",
       "      <th>3</th>\n",
       "      <td>adamsau01</td>\n",
       "      <td>1.22</td>\n",
       "      <td>2015</td>\n",
       "      <td>CLE</td>\n",
       "      <td>AL</td>\n",
       "      <td>507700</td>\n",
       "      <td>0.0</td>\n",
       "    </tr>\n",
       "    <tr>\n",
       "      <th>4</th>\n",
       "      <td>adamsma01</td>\n",
       "      <td>3.38</td>\n",
       "      <td>2015</td>\n",
       "      <td>SLN</td>\n",
       "      <td>NL</td>\n",
       "      <td>534000</td>\n",
       "      <td>0.0</td>\n",
       "    </tr>\n",
       "  </tbody>\n",
       "</table>\n",
       "</div>"
      ],
      "text/plain": [
       "    playerID  yearsPlayed  yearID teamID lgID   salary  award\n",
       "0   abadfe01         5.19    2015    OAK   AL  1087500    0.0\n",
       "1  abreujo02         1.51    2015    CHA   AL  8666000    2.0\n",
       "2  ackledu01         4.30    2015    SEA   AL  2600000    0.0\n",
       "3  adamsau01         1.22    2015    CLE   AL   507700    0.0\n",
       "4  adamsma01         3.38    2015    SLN   NL   534000    0.0"
      ]
     },
     "execution_count": 27,
     "metadata": {},
     "output_type": "execute_result"
    }
   ],
   "source": [
    "# Import award information and count how many awards each player earned throughout career history\n",
    "awards=pd.read_csv(csv_path('AwardsPlayers.csv'))\n",
    "award_count=pd.DataFrame({'award':awards.groupby(['playerID'])['awardID'].count()})\n",
    "bio_salary_2015=bio_salary_2015.merge(award_count,how='left',left_on='playerID',right_index=True).fillna(0)\n",
    "bio_salary_2015.head()"
   ]
  },
  {
   "cell_type": "markdown",
   "metadata": {},
   "source": [
    "r of 0.60 indicates a relatively strong positive linear relation between salary and award:"
   ]
  },
  {
   "cell_type": "code",
   "execution_count": 42,
   "metadata": {
    "collapsed": false
   },
   "outputs": [
    {
     "name": "stdout",
     "output_type": "stream",
     "text": [
      "p vulue is 6.114640576382312e-74, r is 0.597\n",
      "Regression line is: y=3021985.55+x*1862598.24\n"
     ]
    },
    {
     "data": {
      "text/plain": [
       "<matplotlib.text.Text at 0x641fb25fd0>"
      ]
     },
     "execution_count": 42,
     "metadata": {},
     "output_type": "execute_result"
    },
    {
     "data": {
      "image/png": "[encoded data removed]",
      "text/plain": [
       "<matplotlib.figure.Figure at 0x641fb16c18>"
      ]
     },
     "metadata": {},
     "output_type": "display_data"
    }
   ],
   "source": [
    "single_lin(bio_salary_2015,'award','salary')\n",
    "plt.title('Linear Regression between Annual Salary and Total Awards Earned').set_position([.5, 1.05])\n",
    "plt.ylabel('Annual Salary in 10 Million USD')\n",
    "plt.xlabel('Total Awards Earned')"
   ]
  },
  {
   "cell_type": "markdown",
   "metadata": {},
   "source": [
    "#### 3.2.3 Multiple Linear Regression:\n",
    "However, more experienced players are more likely to earn more awards in career history, so we better run a multiple linear regression with both yearsPlayed and award.\n",
    "\n",
    "The result below indicates that both award and yearsPlayed are positively related with salary. It is unlikely that yearsPlayed is the lurking variable behind award and salary's correlation."
   ]
  },
  {
   "cell_type": "code",
   "execution_count": 31,
   "metadata": {
    "collapsed": false
   },
   "outputs": [
    {
     "name": "stdout",
     "output_type": "stream",
     "text": [
      "                            OLS Regression Results                            \n",
      "==============================================================================\n",
      "Dep. Variable:                 salary   R-squared:                       0.557\n",
      "Model:                            OLS   Adj. R-squared:                  0.556\n",
      "Method:                 Least Squares   F-statistic:                     471.7\n",
      "Date:                Sat, 21 Jan 2017   Prob (F-statistic):          2.03e-133\n",
      "Time:                        16:50:41   Log-Likelihood:                -12449.\n",
      "No. Observations:                 754   AIC:                         2.490e+04\n",
      "Df Residuals:                     751   BIC:                         2.492e+04\n",
      "Df Model:                           2                                         \n",
      "Covariance Type:            nonrobust                                         \n",
      "===============================================================================\n",
      "                  coef    std err          t      P>|t|      [95.0% Conf. Int.]\n",
      "-------------------------------------------------------------------------------\n",
      "Intercept   -1.141e+06   2.64e+05     -4.318      0.000     -1.66e+06 -6.22e+05\n",
      "yearsPlayed  8.355e+05   4.53e+04     18.437      0.000      7.47e+05  9.24e+05\n",
      "award        1.319e+06   8.14e+04     16.214      0.000      1.16e+06  1.48e+06\n",
      "==============================================================================\n",
      "Omnibus:                      189.931   Durbin-Watson:                   2.003\n",
      "Prob(Omnibus):                  0.000   Jarque-Bera (JB):              802.513\n",
      "Skew:                           1.103   Prob(JB):                    5.45e-175\n",
      "Kurtosis:                       7.547   Cond. No.                         12.9\n",
      "==============================================================================\n",
      "\n",
      "Warnings:\n",
      "[1] Standard Errors assume that the covariance matrix of the errors is correctly specified.\n"
     ]
    }
   ],
   "source": [
    "model = ols('salary~yearsPlayed+award',data=bio_salary_2015).fit()\n",
    "print(model.summary())  "
   ]
  },
  {
   "cell_type": "markdown",
   "metadata": {},
   "source": [
    "### 3.3 Salary vs Player's Appearances"
   ]
  },
  {
   "cell_type": "code",
   "execution_count": 32,
   "metadata": {
    "collapsed": false
   },
   "outputs": [
    {
     "data": {
      "text/html": [
       "<div>\n",
       "<table border=\"1\" class=\"dataframe\">\n",
       "  <thead>\n",
       "    <tr style=\"text-align: right;\">\n",
       "      <th></th>\n",
       "      <th>yearID</th>\n",
       "      <th>teamID</th>\n",
       "      <th>lgID</th>\n",
       "      <th>playerID</th>\n",
       "      <th>G_all</th>\n",
       "      <th>GS</th>\n",
       "      <th>G_batting</th>\n",
       "      <th>G_defense</th>\n",
       "      <th>G_p</th>\n",
       "      <th>G_c</th>\n",
       "      <th>...</th>\n",
       "      <th>G_2b</th>\n",
       "      <th>G_3b</th>\n",
       "      <th>G_ss</th>\n",
       "      <th>G_lf</th>\n",
       "      <th>G_cf</th>\n",
       "      <th>G_rf</th>\n",
       "      <th>G_of</th>\n",
       "      <th>G_dh</th>\n",
       "      <th>G_ph</th>\n",
       "      <th>G_pr</th>\n",
       "    </tr>\n",
       "  </thead>\n",
       "  <tbody>\n",
       "    <tr>\n",
       "      <th>99466</th>\n",
       "      <td>2015</td>\n",
       "      <td>ATL</td>\n",
       "      <td>NL</td>\n",
       "      <td>aardsda01</td>\n",
       "      <td>33.0</td>\n",
       "      <td>0.0</td>\n",
       "      <td>30</td>\n",
       "      <td>33.0</td>\n",
       "      <td>33</td>\n",
       "      <td>0</td>\n",
       "      <td>...</td>\n",
       "      <td>0</td>\n",
       "      <td>0</td>\n",
       "      <td>0</td>\n",
       "      <td>0</td>\n",
       "      <td>0</td>\n",
       "      <td>0</td>\n",
       "      <td>0</td>\n",
       "      <td>0.0</td>\n",
       "      <td>0.0</td>\n",
       "      <td>0.0</td>\n",
       "    </tr>\n",
       "    <tr>\n",
       "      <th>99467</th>\n",
       "      <td>2015</td>\n",
       "      <td>OAK</td>\n",
       "      <td>AL</td>\n",
       "      <td>abadfe01</td>\n",
       "      <td>62.0</td>\n",
       "      <td>0.0</td>\n",
       "      <td>4</td>\n",
       "      <td>62.0</td>\n",
       "      <td>62</td>\n",
       "      <td>0</td>\n",
       "      <td>...</td>\n",
       "      <td>0</td>\n",
       "      <td>0</td>\n",
       "      <td>0</td>\n",
       "      <td>0</td>\n",
       "      <td>0</td>\n",
       "      <td>0</td>\n",
       "      <td>0</td>\n",
       "      <td>0.0</td>\n",
       "      <td>0.0</td>\n",
       "      <td>0.0</td>\n",
       "    </tr>\n",
       "    <tr>\n",
       "      <th>99468</th>\n",
       "      <td>2015</td>\n",
       "      <td>CHA</td>\n",
       "      <td>AL</td>\n",
       "      <td>abreujo02</td>\n",
       "      <td>154.0</td>\n",
       "      <td>154.0</td>\n",
       "      <td>154</td>\n",
       "      <td>115.0</td>\n",
       "      <td>0</td>\n",
       "      <td>0</td>\n",
       "      <td>...</td>\n",
       "      <td>0</td>\n",
       "      <td>0</td>\n",
       "      <td>0</td>\n",
       "      <td>0</td>\n",
       "      <td>0</td>\n",
       "      <td>0</td>\n",
       "      <td>0</td>\n",
       "      <td>39.0</td>\n",
       "      <td>0.0</td>\n",
       "      <td>0.0</td>\n",
       "    </tr>\n",
       "    <tr>\n",
       "      <th>99469</th>\n",
       "      <td>2015</td>\n",
       "      <td>MIN</td>\n",
       "      <td>AL</td>\n",
       "      <td>achteaj01</td>\n",
       "      <td>11.0</td>\n",
       "      <td>0.0</td>\n",
       "      <td>1</td>\n",
       "      <td>11.0</td>\n",
       "      <td>11</td>\n",
       "      <td>0</td>\n",
       "      <td>...</td>\n",
       "      <td>0</td>\n",
       "      <td>0</td>\n",
       "      <td>0</td>\n",
       "      <td>0</td>\n",
       "      <td>0</td>\n",
       "      <td>0</td>\n",
       "      <td>0</td>\n",
       "      <td>0.0</td>\n",
       "      <td>0.0</td>\n",
       "      <td>0.0</td>\n",
       "    </tr>\n",
       "    <tr>\n",
       "      <th>99470</th>\n",
       "      <td>2015</td>\n",
       "      <td>NYA</td>\n",
       "      <td>AL</td>\n",
       "      <td>ackledu01</td>\n",
       "      <td>23.0</td>\n",
       "      <td>14.0</td>\n",
       "      <td>23</td>\n",
       "      <td>17.0</td>\n",
       "      <td>0</td>\n",
       "      <td>0</td>\n",
       "      <td>...</td>\n",
       "      <td>9</td>\n",
       "      <td>0</td>\n",
       "      <td>0</td>\n",
       "      <td>4</td>\n",
       "      <td>0</td>\n",
       "      <td>0</td>\n",
       "      <td>4</td>\n",
       "      <td>2.0</td>\n",
       "      <td>9.0</td>\n",
       "      <td>0.0</td>\n",
       "    </tr>\n",
       "  </tbody>\n",
       "</table>\n",
       "<p>5 rows × 21 columns</p>\n",
       "</div>"
      ],
      "text/plain": [
       "       yearID teamID lgID   playerID  G_all     GS  G_batting  G_defense  G_p  \\\n",
       "99466    2015    ATL   NL  aardsda01   33.0    0.0         30       33.0   33   \n",
       "99467    2015    OAK   AL   abadfe01   62.0    0.0          4       62.0   62   \n",
       "99468    2015    CHA   AL  abreujo02  154.0  154.0        154      115.0    0   \n",
       "99469    2015    MIN   AL  achteaj01   11.0    0.0          1       11.0   11   \n",
       "99470    2015    NYA   AL  ackledu01   23.0   14.0         23       17.0    0   \n",
       "\n",
       "       G_c  ...   G_2b  G_3b  G_ss  G_lf  G_cf  G_rf  G_of  G_dh  G_ph  G_pr  \n",
       "99466    0  ...      0     0     0     0     0     0     0   0.0   0.0   0.0  \n",
       "99467    0  ...      0     0     0     0     0     0     0   0.0   0.0   0.0  \n",
       "99468    0  ...      0     0     0     0     0     0     0  39.0   0.0   0.0  \n",
       "99469    0  ...      0     0     0     0     0     0     0   0.0   0.0   0.0  \n",
       "99470    0  ...      9     0     0     4     0     0     4   2.0   9.0   0.0  \n",
       "\n",
       "[5 rows x 21 columns]"
      ]
     },
     "execution_count": 32,
     "metadata": {},
     "output_type": "execute_result"
    }
   ],
   "source": [
    "# Import appearance information of each individual player and focus on rows of year 2015 only\n",
    "appear=pd.read_csv(csv_path('Appearances.csv'))\n",
    "appear_2015=appear.copy()[appear['yearID']==2015]\n",
    "\n",
    "# I observed some missing values among 'G_*' columns. \n",
    "# Since I will only use those columns to identify the major role of each player, I am going to fill those missing values with 0\n",
    "appear_2015=appear_2015.fillna(0)\n",
    "appear_2015.head()"
   ]
  },
  {
   "cell_type": "markdown",
   "metadata": {},
   "source": [
    "Seems each player can play different roles in different games. For the convenience of later categorization, I gonna tag each player with one single role, by finding out the most frequently played role within year 2015."
   ]
  },
  {
   "cell_type": "code",
   "execution_count": 33,
   "metadata": {
    "collapsed": false,
    "scrolled": true
   },
   "outputs": [
    {
     "data": {
      "text/html": [
       "<div>\n",
       "<table border=\"1\" class=\"dataframe\">\n",
       "  <thead>\n",
       "    <tr style=\"text-align: right;\">\n",
       "      <th></th>\n",
       "      <th>yearID</th>\n",
       "      <th>teamID</th>\n",
       "      <th>lgID</th>\n",
       "      <th>playerID</th>\n",
       "      <th>G_all</th>\n",
       "      <th>GS</th>\n",
       "      <th>G_batting</th>\n",
       "      <th>G_defense</th>\n",
       "      <th>G_p</th>\n",
       "      <th>G_c</th>\n",
       "      <th>...</th>\n",
       "      <th>G_3b</th>\n",
       "      <th>G_ss</th>\n",
       "      <th>G_lf</th>\n",
       "      <th>G_cf</th>\n",
       "      <th>G_rf</th>\n",
       "      <th>G_of</th>\n",
       "      <th>G_dh</th>\n",
       "      <th>G_ph</th>\n",
       "      <th>G_pr</th>\n",
       "      <th>main_role</th>\n",
       "    </tr>\n",
       "  </thead>\n",
       "  <tbody>\n",
       "    <tr>\n",
       "      <th>99466</th>\n",
       "      <td>2015</td>\n",
       "      <td>ATL</td>\n",
       "      <td>NL</td>\n",
       "      <td>aardsda01</td>\n",
       "      <td>33.0</td>\n",
       "      <td>0.0</td>\n",
       "      <td>30</td>\n",
       "      <td>33.0</td>\n",
       "      <td>33</td>\n",
       "      <td>0</td>\n",
       "      <td>...</td>\n",
       "      <td>0</td>\n",
       "      <td>0</td>\n",
       "      <td>0</td>\n",
       "      <td>0</td>\n",
       "      <td>0</td>\n",
       "      <td>0</td>\n",
       "      <td>0.0</td>\n",
       "      <td>0.0</td>\n",
       "      <td>0.0</td>\n",
       "      <td>G_p</td>\n",
       "    </tr>\n",
       "    <tr>\n",
       "      <th>99467</th>\n",
       "      <td>2015</td>\n",
       "      <td>OAK</td>\n",
       "      <td>AL</td>\n",
       "      <td>abadfe01</td>\n",
       "      <td>62.0</td>\n",
       "      <td>0.0</td>\n",
       "      <td>4</td>\n",
       "      <td>62.0</td>\n",
       "      <td>62</td>\n",
       "      <td>0</td>\n",
       "      <td>...</td>\n",
       "      <td>0</td>\n",
       "      <td>0</td>\n",
       "      <td>0</td>\n",
       "      <td>0</td>\n",
       "      <td>0</td>\n",
       "      <td>0</td>\n",
       "      <td>0.0</td>\n",
       "      <td>0.0</td>\n",
       "      <td>0.0</td>\n",
       "      <td>G_p</td>\n",
       "    </tr>\n",
       "    <tr>\n",
       "      <th>99468</th>\n",
       "      <td>2015</td>\n",
       "      <td>CHA</td>\n",
       "      <td>AL</td>\n",
       "      <td>abreujo02</td>\n",
       "      <td>154.0</td>\n",
       "      <td>154.0</td>\n",
       "      <td>154</td>\n",
       "      <td>115.0</td>\n",
       "      <td>0</td>\n",
       "      <td>0</td>\n",
       "      <td>...</td>\n",
       "      <td>0</td>\n",
       "      <td>0</td>\n",
       "      <td>0</td>\n",
       "      <td>0</td>\n",
       "      <td>0</td>\n",
       "      <td>0</td>\n",
       "      <td>39.0</td>\n",
       "      <td>0.0</td>\n",
       "      <td>0.0</td>\n",
       "      <td>G_1b</td>\n",
       "    </tr>\n",
       "    <tr>\n",
       "      <th>99469</th>\n",
       "      <td>2015</td>\n",
       "      <td>MIN</td>\n",
       "      <td>AL</td>\n",
       "      <td>achteaj01</td>\n",
       "      <td>11.0</td>\n",
       "      <td>0.0</td>\n",
       "      <td>1</td>\n",
       "      <td>11.0</td>\n",
       "      <td>11</td>\n",
       "      <td>0</td>\n",
       "      <td>...</td>\n",
       "      <td>0</td>\n",
       "      <td>0</td>\n",
       "      <td>0</td>\n",
       "      <td>0</td>\n",
       "      <td>0</td>\n",
       "      <td>0</td>\n",
       "      <td>0.0</td>\n",
       "      <td>0.0</td>\n",
       "      <td>0.0</td>\n",
       "      <td>G_p</td>\n",
       "    </tr>\n",
       "    <tr>\n",
       "      <th>99470</th>\n",
       "      <td>2015</td>\n",
       "      <td>NYA</td>\n",
       "      <td>AL</td>\n",
       "      <td>ackledu01</td>\n",
       "      <td>23.0</td>\n",
       "      <td>14.0</td>\n",
       "      <td>23</td>\n",
       "      <td>17.0</td>\n",
       "      <td>0</td>\n",
       "      <td>0</td>\n",
       "      <td>...</td>\n",
       "      <td>0</td>\n",
       "      <td>0</td>\n",
       "      <td>4</td>\n",
       "      <td>0</td>\n",
       "      <td>0</td>\n",
       "      <td>4</td>\n",
       "      <td>2.0</td>\n",
       "      <td>9.0</td>\n",
       "      <td>0.0</td>\n",
       "      <td>G_2b</td>\n",
       "    </tr>\n",
       "  </tbody>\n",
       "</table>\n",
       "<p>5 rows × 22 columns</p>\n",
       "</div>"
      ],
      "text/plain": [
       "       yearID teamID lgID   playerID  G_all     GS  G_batting  G_defense  G_p  \\\n",
       "99466    2015    ATL   NL  aardsda01   33.0    0.0         30       33.0   33   \n",
       "99467    2015    OAK   AL   abadfe01   62.0    0.0          4       62.0   62   \n",
       "99468    2015    CHA   AL  abreujo02  154.0  154.0        154      115.0    0   \n",
       "99469    2015    MIN   AL  achteaj01   11.0    0.0          1       11.0   11   \n",
       "99470    2015    NYA   AL  ackledu01   23.0   14.0         23       17.0    0   \n",
       "\n",
       "       G_c    ...      G_3b  G_ss  G_lf  G_cf  G_rf  G_of  G_dh  G_ph  G_pr  \\\n",
       "99466    0    ...         0     0     0     0     0     0   0.0   0.0   0.0   \n",
       "99467    0    ...         0     0     0     0     0     0   0.0   0.0   0.0   \n",
       "99468    0    ...         0     0     0     0     0     0  39.0   0.0   0.0   \n",
       "99469    0    ...         0     0     0     0     0     0   0.0   0.0   0.0   \n",
       "99470    0    ...         0     0     4     0     0     4   2.0   9.0   0.0   \n",
       "\n",
       "       main_role  \n",
       "99466        G_p  \n",
       "99467        G_p  \n",
       "99468       G_1b  \n",
       "99469        G_p  \n",
       "99470       G_2b  \n",
       "\n",
       "[5 rows x 22 columns]"
      ]
     },
     "execution_count": 33,
     "metadata": {},
     "output_type": "execute_result"
    }
   ],
   "source": [
    "# Tag each player with one main role in the games\n",
    "positions=appear.columns[8:]\n",
    "def main_role(row):\n",
    "    row['main_role']=row[positions].argmax()\n",
    "    return row\n",
    "\n",
    "appear_2015=appear_2015.apply(main_role,axis=1)\n",
    "appear_2015.head()"
   ]
  },
  {
   "cell_type": "markdown",
   "metadata": {},
   "source": [
    "I will explore two variables' relation with salary separately:\n",
    "- Each player's total games played in year 2015\n",
    "- Player's main role in the game\n",
    "\n",
    "So I mapped those two variable with salary data for later use:"
   ]
  },
  {
   "cell_type": "code",
   "execution_count": 34,
   "metadata": {
    "collapsed": false
   },
   "outputs": [
    {
     "data": {
      "text/html": [
       "<div>\n",
       "<table border=\"1\" class=\"dataframe\">\n",
       "  <thead>\n",
       "    <tr style=\"text-align: right;\">\n",
       "      <th></th>\n",
       "      <th>yearID</th>\n",
       "      <th>teamID</th>\n",
       "      <th>lgID</th>\n",
       "      <th>playerID</th>\n",
       "      <th>salary</th>\n",
       "      <th>G_all</th>\n",
       "      <th>main_role</th>\n",
       "    </tr>\n",
       "  </thead>\n",
       "  <tbody>\n",
       "    <tr>\n",
       "      <th>0</th>\n",
       "      <td>2015</td>\n",
       "      <td>ARI</td>\n",
       "      <td>NL</td>\n",
       "      <td>ahmedni01</td>\n",
       "      <td>508500</td>\n",
       "      <td>134.0</td>\n",
       "      <td>G_ss</td>\n",
       "    </tr>\n",
       "    <tr>\n",
       "      <th>1</th>\n",
       "      <td>2015</td>\n",
       "      <td>ARI</td>\n",
       "      <td>NL</td>\n",
       "      <td>anderch01</td>\n",
       "      <td>512500</td>\n",
       "      <td>28.0</td>\n",
       "      <td>G_p</td>\n",
       "    </tr>\n",
       "    <tr>\n",
       "      <th>2</th>\n",
       "      <td>2015</td>\n",
       "      <td>ARI</td>\n",
       "      <td>NL</td>\n",
       "      <td>chafian01</td>\n",
       "      <td>507500</td>\n",
       "      <td>66.0</td>\n",
       "      <td>G_p</td>\n",
       "    </tr>\n",
       "    <tr>\n",
       "      <th>3</th>\n",
       "      <td>2015</td>\n",
       "      <td>ARI</td>\n",
       "      <td>NL</td>\n",
       "      <td>collmjo01</td>\n",
       "      <td>1400000</td>\n",
       "      <td>44.0</td>\n",
       "      <td>G_p</td>\n",
       "    </tr>\n",
       "    <tr>\n",
       "      <th>4</th>\n",
       "      <td>2015</td>\n",
       "      <td>ARI</td>\n",
       "      <td>NL</td>\n",
       "      <td>corbipa01</td>\n",
       "      <td>524000</td>\n",
       "      <td>16.0</td>\n",
       "      <td>G_p</td>\n",
       "    </tr>\n",
       "  </tbody>\n",
       "</table>\n",
       "</div>"
      ],
      "text/plain": [
       "   yearID teamID lgID   playerID   salary  G_all main_role\n",
       "0    2015    ARI   NL  ahmedni01   508500  134.0      G_ss\n",
       "1    2015    ARI   NL  anderch01   512500   28.0       G_p\n",
       "2    2015    ARI   NL  chafian01   507500   66.0       G_p\n",
       "3    2015    ARI   NL  collmjo01  1400000   44.0       G_p\n",
       "4    2015    ARI   NL  corbipa01   524000   16.0       G_p"
      ]
     },
     "execution_count": 34,
     "metadata": {},
     "output_type": "execute_result"
    }
   ],
   "source": [
    "appear_salary_2015=salary_2015.merge(appear_2015[['playerID','G_all','main_role']],how='inner',left_on='playerID',right_on='playerID')\n",
    "appear_salary_2015.head()"
   ]
  },
  {
   "cell_type": "markdown",
   "metadata": {},
   "source": [
    "#### 3.3.1 Salary vs Total Games Played:\n",
    "I assume the more games the player played in a year, the higher the salary. There is a positive linear relationship between those two variables, but r is only 0.15, the relation is weak."
   ]
  },
  {
   "cell_type": "code",
   "execution_count": 35,
   "metadata": {
    "collapsed": false
   },
   "outputs": [
    {
     "name": "stdout",
     "output_type": "stream",
     "text": [
      "p vulue is 6.326632180180889e-06, r is 0.149\n",
      "Regression line is: y=3323539.49+x*17300.2\n"
     ]
    },
    {
     "data": {
      "text/plain": [
       "<matplotlib.text.Text at 0x3f1b1da0f0>"
      ]
     },
     "execution_count": 35,
     "metadata": {},
     "output_type": "execute_result"
    },
    {
     "data": {
      "image/png": "[encoded data removed]",
      "text/plain": [
       "<matplotlib.figure.Figure at 0x3f1960ff60>"
      ]
     },
     "metadata": {},
     "output_type": "display_data"
    }
   ],
   "source": [
    "single_lin(appear_salary_2015,'G_all','salary')\n",
    "plt.title('Linear Regression between Annual Salary and # of Games Played in 2015').set_position([.5, 1.05])\n",
    "plt.ylabel('Annual Salary in 10 Million USD')\n",
    "plt.xlabel('# of Games Played in 2015')"
   ]
  },
  {
   "cell_type": "markdown",
   "metadata": {},
   "source": [
    "#### 3.3.2 Salary vs Player's Role:\n",
    "Plotting boxplot by player's main role, some preliminary findings can be observed:\n",
    "- On average, three types of fielders(G_lf: leftfielders; G_rf: rightfielders; G_cf: centerfielders) usually earn higher salary\n",
    "- The average salary of pitchers(G_p) and outfielders(G_of) are low, but there are many outliers in those two categories, meaning exceptional pitchers and outfielders can enjoy a high salary level compared with all types of baseball players\n",
    "- Pinch hitter(G_ph) seems like an unimportant role,both the mean and the variance of pinch hitters are low"
   ]
  },
  {
   "cell_type": "code",
   "execution_count": 36,
   "metadata": {
    "collapsed": false
   },
   "outputs": [
    {
     "name": "stderr",
     "output_type": "stream",
     "text": [
      "D:\\Anaconda\\lib\\site-packages\\ipykernel\\__main__.py:5: FutureWarning: sort is deprecated, use sort_values(inplace=True) for INPLACE sorting\n"
     ]
    },
    {
     "data": {
      "text/plain": [
       "<matplotlib.text.Text at 0x3f1b2349e8>"
      ]
     },
     "execution_count": 36,
     "metadata": {},
     "output_type": "execute_result"
    },
    {
     "data": {
      "image/png": "[encoded data removed]",
      "text/plain": [
       "<matplotlib.figure.Figure at 0x3f1b230710>"
      ]
     },
     "metadata": {},
     "output_type": "display_data"
    }
   ],
   "source": [
    "#Create a function to plot separate boxplot for each type of role within one chart\n",
    "def create_boxplot(df,group_key,target_data):\n",
    "    grouped=df.groupby([group_key])\n",
    "    category=grouped[target_data].mean()\n",
    "    category.sort(ascending=False)\n",
    "    plot_data=[]\n",
    "    xticks=[]\n",
    "    for i in range(len(category)):\n",
    "        cat_data=df.loc[grouped.groups[category.index[i]]][target_data]\n",
    "        plot_data.append(cat_data)\n",
    "        xticks.append(category.index[i])\n",
    "    plt.boxplot(plot_data)\n",
    "    plt.xticks(np.arange(len(category))+1,xticks)\n",
    "    \n",
    "create_boxplot(appear_salary_2015,'main_role','salary')\n",
    "plt.title('Distribution of American Baseball Player Annual Salary by Role (Year 2015)').set_position([.5, 1.05])\n",
    "plt.ylabel('Annual Salary in 10 Million USD')\n",
    "plt.xlabel('Type of Major Role')"
   ]
  },
  {
   "cell_type": "markdown",
   "metadata": {},
   "source": [
    "## Part 4: Summary of Key Findings"
   ]
  },
  {
   "cell_type": "markdown",
   "metadata": {},
   "source": [
    "#### Key Findings in Player's Biography:\n",
    "- Most American Baseball Players started their career in professional leagues at age 23-26. While some young talents can enter league before age 20, players who debut after age 30 also exist.\n",
    "- Although some players can stay in the league for more than 10 years, in general the league career length is short. On average, players only stay in the league for ~3 years. Some players even played just one game in the league and then quit immediately.  \n",
    "- AL and NL do attract talented players around the world, 28% of inspected players were born outside America.\n",
    "- A player's batting hand and throwing hand are not necessarily the same, 14% players' batting hand is the opposite of throwing hands\n",
    "\n",
    "**The findings above were based on player pool of 1980-2015, the full database includes data since 1820. If I expand my time frame,or choose a different subset, the patterns might change. It would be interesting if I compare those stats between different time frame in further analysis.** \n",
    "\n",
    "#### Key Findings in Salary Analysis:\n",
    "- For the past three decades, the salary of American baseball players grew steadily in general. It might result from macro-economic growth, inflation, as well as improvement of social status of sport professionals. The true reasons behind this observed growth trend may require further analysis.  \n",
    "- The distribution of salary level represents a typical long-tail pattern: while most players earn a 6-figure annual salary, the most outstanding ones enjoy a 7-figure income.\n",
    "- There is no signifant difference of salary distribution between AL and NL, which is not surprising, since two leagues are almost equally famous and professional.\n",
    "- A relatively strong linear correlation is observed between salary level and total years played in the league. More experienced players tend to earn higher salary. On top of that, total awards earned in the past is also positively correlated with salary level, since besides experience, award is an extra proof of player's talent.\n",
    "- The correlation between salary and # of games played within a year is weak. The assumption that more talented players are likely to earn higher salary and they also tend to join more games requires further inspection.\n",
    "- Salary level does vary for different types of role: Leftfielders, rightfielders and centerfielders usually earn higher salary. While the average salary of pitchers and outfielders are low, there are many outliers in those two categories, meaning exceptional pitchers and outfielders can enjoy a high salary level compared with all types of baseball players.\n",
    "\n",
    "**The salary analysis only inspected salary level of year 2015, observed correlations might be corroborated or weakened by analysis of other years.** "
   ]
  },
  {
   "cell_type": "markdown",
   "metadata": {},
   "source": [
    "## Part 5: Limitations of This Analysis"
   ]
  },
  {
   "cell_type": "markdown",
   "metadata": {},
   "source": [
    "This is really just a preliminary analysis on a small piece of the original baseball database.\n",
    "\n",
    "Major limitations of this analysis can be summarized below:\n",
    "1. Overly simplified inspection:\n",
    "    - For relation between different variables, I only inspected on linear relation, and mainly on single variable regression\n",
    "    - Many variables provided in the database are not adopted\n",
    "2. My knowledge of inferential statistics is limited, so the interpretation of regression result is superficial\n",
    "\n",
    "3. I have very little background knowledge about baseball games, so my assumptions about the data is not very insightful"
   ]
  }
 ],
 "metadata": {
  "anaconda-cloud": {},
  "kernelspec": {
   "display_name": "Python [Root]",
   "language": "python",
   "name": "Python [Root]"
  },
  "language_info": {
   "codemirror_mode": {
    "name": "ipython",
    "version": 3
   },
   "file_extension": ".py",
   "mimetype": "text/x-python",
   "name": "python",
   "nbconvert_exporter": "python",
   "pygments_lexer": "ipython3",
   "version": "3.5.2"
  }
 },
 "nbformat": 4,
 "nbformat_minor": 0
}
